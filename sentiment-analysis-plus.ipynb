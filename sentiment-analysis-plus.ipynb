{
  "cells": [
    {
      "cell_type": "markdown",
      "metadata": {
        "id": "7uvr6sxDc8YG"
      },
      "source": [
        "## 依赖库导入"
      ]
    },
    {
      "cell_type": "code",
      "execution_count": null,
      "metadata": {
        "id": "ugOGXqxCc6gU"
      },
      "outputs": [],
      "source": [
        "import math\n",
        "import torch\n",
        "import torch.nn as nn\n",
        "import torch.optim as optim\n",
        "import pandas as pd\n",
        "from sklearn.metrics import accuracy_score\n",
        "from torch.utils.data import Dataset, DataLoader, random_split\n",
        "import os\n",
        "from tqdm import tqdm\n",
        "from typing import Dict, List, Tuple\n",
        "import numpy as np\n",
        "import torch.nn.functional as F\n",
        "#画图启动\n",
        "import matplotlib.pyplot as plt\n",
        "import matplotlib.ticker as ticker"
      ]
    },
    {
      "cell_type": "markdown",
      "metadata": {
        "id": "QCcV0FmHAnbo"
      },
      "source": [
        "## 载入数据"
      ]
    },
    {
      "cell_type": "code",
      "execution_count": null,
      "metadata": {
        "colab": {
          "base_uri": "https://localhost:8080/"
        },
        "id": "qGy7PM-ZBP4I",
        "outputId": "c70724b6-b462-440a-e896-1dbd897c9897"
      },
      "outputs": [
        {
          "output_type": "stream",
          "name": "stdout",
          "text": [
            "Requirement already satisfied: gdown in /usr/local/lib/python3.11/dist-packages (5.2.0)\n",
            "Requirement already satisfied: beautifulsoup4 in /usr/local/lib/python3.11/dist-packages (from gdown) (4.13.4)\n",
            "Requirement already satisfied: filelock in /usr/local/lib/python3.11/dist-packages (from gdown) (3.18.0)\n",
            "Requirement already satisfied: requests[socks] in /usr/local/lib/python3.11/dist-packages (from gdown) (2.32.3)\n",
            "Requirement already satisfied: tqdm in /usr/local/lib/python3.11/dist-packages (from gdown) (4.67.1)\n",
            "Requirement already satisfied: soupsieve>1.2 in /usr/local/lib/python3.11/dist-packages (from beautifulsoup4->gdown) (2.7)\n",
            "Requirement already satisfied: typing-extensions>=4.0.0 in /usr/local/lib/python3.11/dist-packages (from beautifulsoup4->gdown) (4.14.1)\n",
            "Requirement already satisfied: charset-normalizer<4,>=2 in /usr/local/lib/python3.11/dist-packages (from requests[socks]->gdown) (3.4.2)\n",
            "Requirement already satisfied: idna<4,>=2.5 in /usr/local/lib/python3.11/dist-packages (from requests[socks]->gdown) (3.10)\n",
            "Requirement already satisfied: urllib3<3,>=1.21.1 in /usr/local/lib/python3.11/dist-packages (from requests[socks]->gdown) (2.4.0)\n",
            "Requirement already satisfied: certifi>=2017.4.17 in /usr/local/lib/python3.11/dist-packages (from requests[socks]->gdown) (2025.7.9)\n",
            "Requirement already satisfied: PySocks!=1.5.7,>=1.5.6 in /usr/local/lib/python3.11/dist-packages (from requests[socks]->gdown) (1.7.1)\n",
            "/usr/local/lib/python3.11/dist-packages/gdown/__main__.py:140: FutureWarning: Option `--id` was deprecated in version 4.3.1 and will be removed in 5.0. You don't need to pass it anymore to use a file ID.\n",
            "  warnings.warn(\n",
            "Downloading...\n",
            "From: https://drive.google.com/uc?id=1iJkUmRMIfttSIkcz2Dq8U6kpzOtmXjII\n",
            "To: /content/train.csv\n",
            "100% 18.9M/18.9M [00:00<00:00, 56.3MB/s]\n",
            "/usr/local/lib/python3.11/dist-packages/gdown/__main__.py:140: FutureWarning: Option `--id` was deprecated in version 4.3.1 and will be removed in 5.0. You don't need to pass it anymore to use a file ID.\n",
            "  warnings.warn(\n",
            "Downloading...\n",
            "From: https://drive.google.com/uc?id=1Ig0gA1XqgjDF00Re0GjnBERr6c1zUqPp\n",
            "To: /content/test.csv\n",
            "100% 18.9M/18.9M [00:00<00:00, 29.3MB/s]\n",
            "/usr/local/lib/python3.11/dist-packages/gdown/__main__.py:140: FutureWarning: Option `--id` was deprecated in version 4.3.1 and will be removed in 5.0. You don't need to pass it anymore to use a file ID.\n",
            "  warnings.warn(\n",
            "Downloading...\n",
            "From: https://drive.google.com/uc?id=1DHIQfnLJx7PJWACd_8RsWAAprsRfcR_B\n",
            "To: /content/vocab.csv\n",
            "100% 135k/135k [00:00<00:00, 60.7MB/s]\n"
          ]
        }
      ],
      "source": [
        "!pip install -U gdown\n",
        "#使用gdown下载处理好的数据\n",
        "!gdown --id 1iJkUmRMIfttSIkcz2Dq8U6kpzOtmXjII -O train.csv\n",
        "!gdown --id 1Ig0gA1XqgjDF00Re0GjnBERr6c1zUqPp -O test.csv\n",
        "!gdown --id 1DHIQfnLJx7PJWACd_8RsWAAprsRfcR_B -O vocab.csv\n"
      ]
    },
    {
      "cell_type": "code",
      "execution_count": null,
      "metadata": {
        "id": "eXZM6FK9BlJy",
        "colab": {
          "base_uri": "https://localhost:8080/"
        },
        "outputId": "0128392f-9ecf-49bf-f07c-2ec2ac3bad58"
      },
      "outputs": [
        {
          "output_type": "stream",
          "name": "stdout",
          "text": [
            "sample_data  test.csv  train.csv  vocab.csv\n"
          ]
        }
      ],
      "source": [
        "!ls"
      ]
    },
    {
      "cell_type": "markdown",
      "metadata": {
        "id": "Pf7pQlFWGvtl"
      },
      "source": [
        "##数据处理部分"
      ]
    },
    {
      "cell_type": "code",
      "execution_count": null,
      "metadata": {
        "id": "uRtFChQ-_NSZ"
      },
      "outputs": [],
      "source": [
        "class CSVDataset(Dataset):\n",
        "    def __init__(self, file_path):\n",
        "        # 读取 CSV 文件\n",
        "        self.data = pd.read_csv(file_path)\n",
        "        # 第一列是标签，第三列后是特征\n",
        "        self.seqs = self.data.iloc[:, 2:].astype(int).values.tolist()\n",
        "        self.labels = self.data.iloc[:, 0].astype(int).values\n",
        "\n",
        "    def __len__(self):\n",
        "        return len(self.labels)\n",
        "\n",
        "    def __getitem__(self, idx):\n",
        "        # 转换为张量\n",
        "        seq = torch.tensor(self.seqs[idx], dtype=torch.long)\n",
        "        label = torch.tensor([self.labels[idx]], dtype=torch.float)\n",
        "        return seq, label\n"
      ]
    },
    {
      "cell_type": "code",
      "execution_count": null,
      "metadata": {
        "id": "T9P-Pz8FG98O"
      },
      "outputs": [],
      "source": [
        "# 数据路径\n",
        "train_path = 'train.csv'\n",
        "test_path = 'test.csv'\n",
        "\n",
        "# 创建训练集数据集实例\n",
        "train_dataset = CSVDataset(train_path)\n",
        "\n",
        "# 划分验证集，20% 作为验证集\n",
        "val_size = int(0.2 * len(train_dataset))\n",
        "train_size = len(train_dataset) - val_size\n",
        "train_subset, val_subset = random_split(train_dataset, [train_size, val_size])\n",
        "\n",
        "test_dataset = CSVDataset(test_path)\n",
        "\n",
        "# 创建 DataLoader\n",
        "batch_size = 64\n",
        "train_loader = DataLoader(train_subset, batch_size=batch_size, shuffle=True)\n",
        "val_loader = DataLoader(val_subset, batch_size=batch_size, shuffle=False)\n",
        "test_loader = DataLoader(test_dataset, batch_size=batch_size, shuffle=False)"
      ]
    },
    {
      "cell_type": "markdown",
      "metadata": {
        "id": "-12h5KV0G_jt"
      },
      "source": [
        "##模型构建"
      ]
    },
    {
      "cell_type": "code",
      "execution_count": null,
      "metadata": {
        "id": "B_yNMcIvHC-N"
      },
      "outputs": [],
      "source": [
        "class MultiHeadAttention(nn.Module):\n",
        "    def __init__(self,input_dim,num_heads):\n",
        "        super().__init__()\n",
        "        self.input_dim = input_dim\n",
        "        self.num_heads=num_heads\n",
        "        self.head_dim=input_dim//num_heads\n",
        "\n",
        "        # 检查embed_dim能否被num_heads整除\n",
        "        assert (\n",
        "            self.head_dim * num_heads == input_dim\n",
        "        ), \"embed_dim必须能被num_heads整除\"\n",
        "\n",
        "        #生成Q，K，V的线性层\n",
        "        self.queries = nn.Linear(input_dim, input_dim)\n",
        "        self.keys = nn.Linear(input_dim, input_dim)\n",
        "        self.values = nn.Linear(input_dim, input_dim)\n",
        "\n",
        "        # 多头注意力输出后的融合线性层\n",
        "        self.fc_out = nn.Linear(input_dim, input_dim)\n",
        "\n",
        "    def forward(self,x):\n",
        "        #x:(batch_size, seq_len, input_dim)\n",
        "        batch_size, seq_len, _=x.shape\n",
        "        #生成Q，K，V\n",
        "        # (batch_size, seq_length, input_dim)\n",
        "        Q=self.queries(x)\n",
        "        K=self.keys(x)\n",
        "        V=self.values(x)\n",
        "\n",
        "        #拆分为多头\n",
        "        #(batch_size,seq_len,num_heads,head_dim)\n",
        "        Q=Q.view(batch_size,seq_len,self.num_heads,self.head_dim)\n",
        "        K=K.view(batch_size,seq_len,self.num_heads,self.head_dim)\n",
        "        V=V.view(batch_size,seq_len,self.num_heads,self.head_dim)\n",
        "\n",
        "        #变换顺序,便于注意力矩阵运算\n",
        "        #(batch_size,num_heads,seq_len,head_dim)\n",
        "        Q=Q.transpose(1,2)\n",
        "        K=K.transpose(1,2)\n",
        "        V=V.transpose(1,2)\n",
        "\n",
        "        #注意力计算\n",
        "        #（batch_size,num_heads,seq_len,seq_len）\n",
        "        scores=torch.matmul(Q,K.transpose(-2,-1))\n",
        "        #缩放\n",
        "        scores=scores/math.sqrt(self.head_dim)\n",
        "        #归一化为注意力权重\n",
        "        #（batch_size,num_heads,seq_len,seq_len）\n",
        "        attn_weights=torch.softmax(scores,dim=-1)\n",
        "\n",
        "        #加权求和\n",
        "        #（batch_size,num_heads,seq_len,head_dim）\n",
        "        out=torch.matmul(attn_weights,V)\n",
        "\n",
        "        #合并多头\n",
        "        #(batch_size,seq_len,num_heads,head_dim)\n",
        "        out=out.transpose(1,2)\n",
        "        #(batch_size,seq_len,input_dim)\n",
        "        out=out.reshape(batch_size,seq_len,self.input_dim)\n",
        "\n",
        "        #线性变换\n",
        "        #(batch_size,seq_len,input_dim)\n",
        "        out=self.fc_out(out)\n",
        "        return out\n"
      ]
    },
    {
      "cell_type": "code",
      "execution_count": null,
      "metadata": {
        "id": "crBubxV_HGSm"
      },
      "outputs": [],
      "source": [
        "class SentimentClassifier(nn.Module):\n",
        "    def __init__(self,vocab_size,embed_dim,hidden_dim,num_heads,p):\n",
        "        super().__init__()\n",
        "        self.embedding=nn.Embedding(vocab_size,embed_dim)\n",
        "        self.lstm=nn.LSTM(embed_dim,hidden_dim,batch_first=True)\n",
        "        #注意力\n",
        "        self.attention = MultiHeadAttention(input_dim=hidden_dim, num_heads=num_heads)\n",
        "        self.dropout=nn.Dropout(p)\n",
        "        self.fc=nn.Linear(hidden_dim,1)\n",
        "        self.sigmoid=nn.Sigmoid()\n",
        "\n",
        "    def forward(self,x):\n",
        "        #输入(batch_size, seq_len)\n",
        "        embedded=self.dropout(self.embedding(x))\n",
        "        #embedded:(batch_size, seq_len, embed_dim)\n",
        "        output,_=self.lstm(embedded)\n",
        "        output=self.dropout(output)\n",
        "        #output:(batch_size, seq_len, hidden_dim)\n",
        "        #注意力\n",
        "        attn_out=self.dropout(self.attention(output))\n",
        "        #attn_out:(batch_size, seq_len, hidden_dim)\n",
        "        #平均池化，整句的表示\n",
        "        pooled = attn_out.mean(dim=1)\n",
        "        # pooled:(batch_size, hidden_dim)\n",
        "        #dropout防止过拟合\n",
        "        pooled = self.dropout(pooled)\n",
        "        # 全连接层\n",
        "        out = self.fc(pooled)\n",
        "        # 激活函数\n",
        "        out = self.sigmoid(out)\n",
        "        return out"
      ]
    },
    {
      "cell_type": "code",
      "execution_count": null,
      "metadata": {
        "id": "PnIPTDSvHGA8"
      },
      "outputs": [],
      "source": []
    },
    {
      "cell_type": "code",
      "source": [],
      "metadata": {
        "id": "Gy-3ZWiRoakt"
      },
      "execution_count": null,
      "outputs": []
    },
    {
      "cell_type": "markdown",
      "metadata": {
        "id": "N9K5F1GOHG-M"
      },
      "source": [
        "##模型训练"
      ]
    },
    {
      "cell_type": "code",
      "execution_count": null,
      "metadata": {
        "id": "_Kd9YAQKHLwQ"
      },
      "outputs": [],
      "source": [
        "\n",
        "def train_model(model: nn.Module,\n",
        "                train_loader: torch.utils.data.DataLoader,\n",
        "                val_loader: torch.utils.data.DataLoader,\n",
        "                optimizer: torch.optim.Optimizer,\n",
        "                loss_fn: nn.Module,\n",
        "                num_epochs: int,\n",
        "                device: torch.device,\n",
        "                checkpoint_dir: str = 'checkpoints') -> Tuple[Dict[str, List[float]], str]:\n",
        "\n",
        "    history = {\n",
        "        'train_loss': [],\n",
        "        'train_acc': [],\n",
        "        'val_loss': [],\n",
        "        'val_acc': []\n",
        "    }\n",
        "\n",
        "    # 创建checkpoints目录\n",
        "    os.makedirs(checkpoint_dir, exist_ok=True)\n",
        "\n",
        "    # 记录最佳验证准确率和对应的模型路径\n",
        "    best_val_acc = 0.0\n",
        "    best_model_path = os.path.join(checkpoint_dir, 'best_model.pth')\n",
        "\n",
        "    model.to(device)\n",
        "\n",
        "    # 训练循环\n",
        "    for epoch in range(num_epochs):\n",
        "        print(f'\\nEpoch {epoch+1}/{num_epochs}')\n",
        "\n",
        "        # 训练阶段\n",
        "        model.train()\n",
        "        train_loss = 0.0\n",
        "        train_correct = 0\n",
        "        train_total = 0\n",
        "\n",
        "        train_bar = tqdm(train_loader, desc='Training')\n",
        "        for batch_idx, (texts, labels) in enumerate(train_bar):\n",
        "            # 将数据移到指定设备\n",
        "            texts, labels = texts.to(device), labels.to(device)\n",
        "\n",
        "            # 前向传播\n",
        "            optimizer.zero_grad()\n",
        "            outputs = model(texts)\n",
        "            loss = loss_fn(outputs, labels)\n",
        "\n",
        "            # 反向传播\n",
        "            loss.backward()\n",
        "            optimizer.step()\n",
        "\n",
        "            # 统计\n",
        "            train_loss += loss.item()\n",
        "            #_, predicted = outputs.max(1)\n",
        "            predicted = (outputs > 0.5).float()\n",
        "            train_total += labels.size(0)\n",
        "            #train_correct += predicted.eq(labels).sum().item()\n",
        "            train_correct += (predicted == labels).sum().item()\n",
        "\n",
        "            # 更新进度条\n",
        "            train_bar.set_postfix({\n",
        "                'loss': f'{train_loss/(batch_idx+1):.4f}',\n",
        "                'acc': f'{100.*train_correct/train_total:.2f}%'\n",
        "            })\n",
        "\n",
        "        # 计算训练指标\n",
        "        train_loss = train_loss / len(train_loader)\n",
        "        train_acc = 100. * train_correct / train_total\n",
        "\n",
        "        # 验证阶段\n",
        "        model.eval()\n",
        "        val_loss = 0.0\n",
        "        val_correct = 0\n",
        "        val_total = 0\n",
        "\n",
        "        with torch.no_grad():\n",
        "            val_bar = tqdm(val_loader, desc='Validation')\n",
        "            for batch_idx, (texts, labels) in enumerate(val_bar):\n",
        "                texts, labels = texts.to(device), labels.to(device)\n",
        "                outputs = model(texts)\n",
        "                loss = loss_fn(outputs, labels)\n",
        "\n",
        "                val_loss += loss.item()\n",
        "                # _, predicted = outputs.max(1)\n",
        "                # val_total += labels.size(0)\n",
        "                # val_correct += predicted.eq(labels).sum().item()\n",
        "                predicted = (outputs > 0.5).float()\n",
        "                val_total += labels.size(0)\n",
        "                val_correct += (predicted == labels).sum().item()\n",
        "\n",
        "                val_bar.set_postfix({\n",
        "                    'loss': f'{val_loss/(batch_idx+1):.4f}',\n",
        "                    'acc': f'{100.*val_correct/val_total:.2f}%'\n",
        "                })\n",
        "\n",
        "        # 计算验证指标\n",
        "        val_loss = val_loss / len(val_loader)\n",
        "        val_acc = 100. * val_correct / val_total\n",
        "\n",
        "        # 记录历史\n",
        "        history['train_loss'].append(train_loss)\n",
        "        history['train_acc'].append(train_acc)\n",
        "        history['val_loss'].append(val_loss)\n",
        "        history['val_acc'].append(val_acc)\n",
        "\n",
        "        # 打印当前轮次的结果\n",
        "        print(f'\\nEpoch {epoch+1}/{num_epochs}:')\n",
        "        print(f'Train Loss: {train_loss:.4f}, Train Acc: {train_acc:.2f}%')\n",
        "        print(f'Val Loss: {val_loss:.4f}, Val Acc: {val_acc:.2f}%')\n",
        "\n",
        "        # 如果当前验证准确率是最佳的，保存模型\n",
        "        if val_acc > best_val_acc:\n",
        "            best_val_acc = val_acc\n",
        "            torch.save({\n",
        "                'epoch': epoch,\n",
        "                'model_state_dict': model.state_dict(),\n",
        "                'optimizer_state_dict': optimizer.state_dict(),\n",
        "                'val_acc': val_acc,\n",
        "            }, best_model_path)\n",
        "            print(f\"保存最佳模型于 {best_model_path}，验证准确率: {val_acc:.2f}%\")\n",
        "\n",
        "    print(f\"训练完成，最佳验证准确率: {best_val_acc:.2f}%\")\n",
        "    return history, best_model_path\n",
        "\n",
        "def predict(model: nn.Module,\n",
        "            test_loader: torch.utils.data.DataLoader,\n",
        "            device: torch.device) -> Tuple[np.ndarray, np.ndarray, np.ndarray]:\n",
        "    \"\"\"\n",
        "    用于二分类模型的预测函数（模型已包含sigmoid）\n",
        "    \"\"\"\n",
        "    model.eval()\n",
        "    predictions = []\n",
        "    probabilities = []\n",
        "    ground_truth = []\n",
        "\n",
        "    with torch.no_grad():\n",
        "        for texts, labels in tqdm(test_loader, desc='Predicting'):\n",
        "            texts, labels = texts.to(device), labels.to(device)\n",
        "            outputs = model(texts)              # outputs 已是 sigmoid 后的概率\n",
        "            preds = (outputs > 0.5).long()      # 不再用 sigmoid！\n",
        "\n",
        "            predictions.extend(preds.cpu().numpy().flatten())\n",
        "            probabilities.extend(outputs.cpu().numpy().flatten())  # outputs 就是概率\n",
        "            ground_truth.extend(labels.cpu().numpy().flatten())\n",
        "\n",
        "    return np.array(predictions), np.array(probabilities), np.array(ground_truth)\n"
      ]
    },
    {
      "cell_type": "code",
      "execution_count": null,
      "metadata": {
        "id": "WaIZuB_BHM9O"
      },
      "outputs": [],
      "source": [
        "vocab_size=10002\n",
        "embed_dim=64\n",
        "hidden_dim=128\n",
        "num_heads=4\n",
        "p=0.5\n",
        "model=SentimentClassifier(vocab_size,embed_dim,hidden_dim,num_heads,p)\n",
        "# 定义损失函数和优化器\n",
        "optimizer = torch.optim.Adam(model.parameters(), lr=0.001, weight_decay=1e-4)\n",
        "loss_fn = nn.BCELoss()\n",
        "num_epochs=10\n",
        "device= torch.device('cuda' if torch.cuda.is_available() else 'cpu')"
      ]
    },
    {
      "cell_type": "code",
      "execution_count": null,
      "metadata": {
        "colab": {
          "base_uri": "https://localhost:8080/"
        },
        "id": "UdKm52SgHMvt",
        "outputId": "8ee07ae0-f891-425e-a988-0711b784defb"
      },
      "outputs": [
        {
          "output_type": "stream",
          "name": "stdout",
          "text": [
            "\n",
            "Epoch 1/10\n"
          ]
        },
        {
          "output_type": "stream",
          "name": "stderr",
          "text": [
            "Training: 100%|██████████| 313/313 [00:06<00:00, 44.90it/s, loss=0.6479, acc=61.17%]\n",
            "Validation: 100%|██████████| 79/79 [00:00<00:00, 87.08it/s, loss=0.5452, acc=71.97%]\n"
          ]
        },
        {
          "output_type": "stream",
          "name": "stdout",
          "text": [
            "\n",
            "Epoch 1/10:\n",
            "Train Loss: 0.6479, Train Acc: 61.17%\n",
            "Val Loss: 0.5452, Val Acc: 71.97%\n",
            "保存最佳模型于 checkpoints/best_model.pth，验证准确率: 71.97%\n",
            "\n",
            "Epoch 2/10\n"
          ]
        },
        {
          "output_type": "stream",
          "name": "stderr",
          "text": [
            "Training: 100%|██████████| 313/313 [00:07<00:00, 44.54it/s, loss=0.5326, acc=73.49%]\n",
            "Validation: 100%|██████████| 79/79 [00:00<00:00, 86.25it/s, loss=0.4733, acc=78.00%]\n"
          ]
        },
        {
          "output_type": "stream",
          "name": "stdout",
          "text": [
            "\n",
            "Epoch 2/10:\n",
            "Train Loss: 0.5326, Train Acc: 73.49%\n",
            "Val Loss: 0.4733, Val Acc: 78.00%\n",
            "保存最佳模型于 checkpoints/best_model.pth，验证准确率: 78.00%\n",
            "\n",
            "Epoch 3/10\n"
          ]
        },
        {
          "output_type": "stream",
          "name": "stderr",
          "text": [
            "Training: 100%|██████████| 313/313 [00:06<00:00, 45.04it/s, loss=0.4430, acc=79.56%]\n",
            "Validation: 100%|██████████| 79/79 [00:00<00:00, 88.13it/s, loss=0.3810, acc=83.62%]\n"
          ]
        },
        {
          "output_type": "stream",
          "name": "stdout",
          "text": [
            "\n",
            "Epoch 3/10:\n",
            "Train Loss: 0.4430, Train Acc: 79.56%\n",
            "Val Loss: 0.3810, Val Acc: 83.62%\n",
            "保存最佳模型于 checkpoints/best_model.pth，验证准确率: 83.62%\n",
            "\n",
            "Epoch 4/10\n"
          ]
        },
        {
          "output_type": "stream",
          "name": "stderr",
          "text": [
            "Training: 100%|██████████| 313/313 [00:06<00:00, 44.91it/s, loss=0.3907, acc=82.69%]\n",
            "Validation: 100%|██████████| 79/79 [00:00<00:00, 93.00it/s, loss=0.4088, acc=82.10%]\n"
          ]
        },
        {
          "output_type": "stream",
          "name": "stdout",
          "text": [
            "\n",
            "Epoch 4/10:\n",
            "Train Loss: 0.3907, Train Acc: 82.69%\n",
            "Val Loss: 0.4088, Val Acc: 82.10%\n",
            "\n",
            "Epoch 5/10\n"
          ]
        },
        {
          "output_type": "stream",
          "name": "stderr",
          "text": [
            "Training: 100%|██████████| 313/313 [00:07<00:00, 44.43it/s, loss=0.3512, acc=84.72%]\n",
            "Validation: 100%|██████████| 79/79 [00:00<00:00, 95.31it/s, loss=0.3956, acc=83.16%]\n"
          ]
        },
        {
          "output_type": "stream",
          "name": "stdout",
          "text": [
            "\n",
            "Epoch 5/10:\n",
            "Train Loss: 0.3512, Train Acc: 84.72%\n",
            "Val Loss: 0.3956, Val Acc: 83.16%\n",
            "\n",
            "Epoch 6/10\n"
          ]
        },
        {
          "output_type": "stream",
          "name": "stderr",
          "text": [
            "Training: 100%|██████████| 313/313 [00:06<00:00, 45.59it/s, loss=0.3214, acc=86.19%]\n",
            "Validation: 100%|██████████| 79/79 [00:00<00:00, 83.60it/s, loss=0.3395, acc=85.84%]\n"
          ]
        },
        {
          "output_type": "stream",
          "name": "stdout",
          "text": [
            "\n",
            "Epoch 6/10:\n",
            "Train Loss: 0.3214, Train Acc: 86.19%\n",
            "Val Loss: 0.3395, Val Acc: 85.84%\n",
            "保存最佳模型于 checkpoints/best_model.pth，验证准确率: 85.84%\n",
            "\n",
            "Epoch 7/10\n"
          ]
        },
        {
          "output_type": "stream",
          "name": "stderr",
          "text": [
            "Training: 100%|██████████| 313/313 [00:06<00:00, 45.39it/s, loss=0.2950, acc=87.29%]\n",
            "Validation: 100%|██████████| 79/79 [00:00<00:00, 92.12it/s, loss=0.3006, acc=87.58%]\n"
          ]
        },
        {
          "output_type": "stream",
          "name": "stdout",
          "text": [
            "\n",
            "Epoch 7/10:\n",
            "Train Loss: 0.2950, Train Acc: 87.29%\n",
            "Val Loss: 0.3006, Val Acc: 87.58%\n",
            "保存最佳模型于 checkpoints/best_model.pth，验证准确率: 87.58%\n",
            "\n",
            "Epoch 8/10\n"
          ]
        },
        {
          "output_type": "stream",
          "name": "stderr",
          "text": [
            "Training: 100%|██████████| 313/313 [00:06<00:00, 45.10it/s, loss=0.2685, acc=88.50%]\n",
            "Validation: 100%|██████████| 79/79 [00:00<00:00, 88.56it/s, loss=0.2868, acc=87.96%]\n"
          ]
        },
        {
          "output_type": "stream",
          "name": "stdout",
          "text": [
            "\n",
            "Epoch 8/10:\n",
            "Train Loss: 0.2685, Train Acc: 88.50%\n",
            "Val Loss: 0.2868, Val Acc: 87.96%\n",
            "保存最佳模型于 checkpoints/best_model.pth，验证准确率: 87.96%\n",
            "\n",
            "Epoch 9/10\n"
          ]
        },
        {
          "output_type": "stream",
          "name": "stderr",
          "text": [
            "Training: 100%|██████████| 313/313 [00:06<00:00, 45.74it/s, loss=0.2524, acc=89.44%]\n",
            "Validation: 100%|██████████| 79/79 [00:00<00:00, 87.49it/s, loss=0.3204, acc=86.66%]\n"
          ]
        },
        {
          "output_type": "stream",
          "name": "stdout",
          "text": [
            "\n",
            "Epoch 9/10:\n",
            "Train Loss: 0.2524, Train Acc: 89.44%\n",
            "Val Loss: 0.3204, Val Acc: 86.66%\n",
            "\n",
            "Epoch 10/10\n"
          ]
        },
        {
          "output_type": "stream",
          "name": "stderr",
          "text": [
            "Training: 100%|██████████| 313/313 [00:06<00:00, 45.19it/s, loss=0.2322, acc=90.64%]\n",
            "Validation: 100%|██████████| 79/79 [00:00<00:00, 94.01it/s, loss=0.3188, acc=87.00%]"
          ]
        },
        {
          "output_type": "stream",
          "name": "stdout",
          "text": [
            "\n",
            "Epoch 10/10:\n",
            "Train Loss: 0.2322, Train Acc: 90.64%\n",
            "Val Loss: 0.3188, Val Acc: 87.00%\n",
            "训练完成，最佳验证准确率: 87.96%\n"
          ]
        },
        {
          "output_type": "stream",
          "name": "stderr",
          "text": [
            "\n"
          ]
        }
      ],
      "source": [
        "history,best_model_path=train_model(\n",
        "                    model,\n",
        "                    train_loader,\n",
        "                    val_loader,\n",
        "                    optimizer,\n",
        "                    loss_fn,\n",
        "                    num_epochs,\n",
        "                    device)\n",
        "\n"
      ]
    },
    {
      "cell_type": "code",
      "source": [
        "# 加载最优模型\n",
        "checkpoint = torch.load('checkpoints/best_model.pth')\n",
        "model.load_state_dict(checkpoint['model_state_dict'])\n",
        "\n",
        "# 测试集评估\n",
        "preds, probs, labels = predict(model, test_loader, device)\n",
        "\n",
        "acc = accuracy_score(labels, preds)\n",
        "print(f\"测试集准确率: {acc * 100:.2f}%\")"
      ],
      "metadata": {
        "colab": {
          "base_uri": "https://localhost:8080/"
        },
        "id": "nT_H0o1v55hy",
        "outputId": "52b8ab92-2c26-417a-8ba4-165603f3b890"
      },
      "execution_count": null,
      "outputs": [
        {
          "output_type": "stream",
          "name": "stderr",
          "text": [
            "Predicting: 100%|██████████| 391/391 [00:04<00:00, 92.28it/s]"
          ]
        },
        {
          "output_type": "stream",
          "name": "stdout",
          "text": [
            "测试集准确率: 87.82%\n"
          ]
        },
        {
          "output_type": "stream",
          "name": "stderr",
          "text": [
            "\n"
          ]
        }
      ]
    },
    {
      "cell_type": "markdown",
      "metadata": {
        "id": "hrSqASFZHN3v"
      },
      "source": [
        "##模型可视化评估"
      ]
    },
    {
      "cell_type": "code",
      "source": [
        "def plot_training_history(history: Dict[str, List[float]], save_path: str = None, show: bool = True):\n",
        "    \"\"\"\n",
        "    Plot training history: loss and accuracy curves (English version for Colab).\n",
        "\n",
        "    Args:\n",
        "        history: dict with keys 'train_loss', 'val_loss', 'train_acc', 'val_acc'\n",
        "        save_path: optional path to save the figure\n",
        "        show: whether to display the plot\n",
        "    \"\"\"\n",
        "    epochs = len(history['train_loss'])\n",
        "\n",
        "    fig, (ax1, ax2) = plt.subplots(1, 2, figsize=(14, 5))\n",
        "    plt.rcParams['axes.unicode_minus'] = False  # Avoid minus sign being replaced\n",
        "\n",
        "    # Plot loss\n",
        "    ax1.plot(range(1, epochs + 1), history['train_loss'], 'b-', label='Train Loss')\n",
        "    ax1.plot(range(1, epochs + 1), history['val_loss'], 'r-', label='Validation Loss')\n",
        "    ax1.set_title('Training and Validation Loss')\n",
        "    ax1.set_xlabel('Epoch')\n",
        "    ax1.set_ylabel('Loss')\n",
        "    ax1.grid(True)\n",
        "    ax1.legend()\n",
        "    ax1.xaxis.set_major_locator(ticker.MaxNLocator(integer=True))\n",
        "\n",
        "    # Plot accuracy\n",
        "    ax2.plot(range(1, epochs + 1), history['train_acc'], 'b-', label='Train Accuracy')\n",
        "    ax2.plot(range(1, epochs + 1), history['val_acc'], 'r-', label='Validation Accuracy')\n",
        "    ax2.set_title('Training and Validation Accuracy')\n",
        "    ax2.set_xlabel('Epoch')\n",
        "    ax2.set_ylabel('Accuracy (%)')\n",
        "    ax2.grid(True)\n",
        "    ax2.legend()\n",
        "    ax2.xaxis.set_major_locator(ticker.MaxNLocator(integer=True))\n",
        "\n",
        "    plt.tight_layout()\n",
        "\n",
        "    if save_path:\n",
        "        os.makedirs(os.path.dirname(save_path), exist_ok=True)\n",
        "        plt.savefig(save_path, dpi=300, bbox_inches='tight')\n",
        "        print(f\"✅ Training history plot saved to: {save_path}\")\n",
        "\n",
        "    if show:\n",
        "        plt.show()\n",
        "\n",
        "    return fig, (ax1, ax2)"
      ],
      "metadata": {
        "id": "FstYlGb_57fd"
      },
      "execution_count": null,
      "outputs": []
    },
    {
      "cell_type": "code",
      "execution_count": null,
      "metadata": {
        "colab": {
          "base_uri": "https://localhost:8080/",
          "height": 374
        },
        "id": "HKLprvbwHT0N",
        "outputId": "afadf2ce-10bd-4c6f-8125-fca4f6cb0eb9"
      },
      "outputs": [
        {
          "output_type": "display_data",
          "data": {
            "text/plain": [
              "<Figure size 1400x500 with 2 Axes>"
            ],
            "image/png": "[encoded data removed]"
          },
          "metadata": {}
        },
        {
          "output_type": "execute_result",
          "data": {
            "text/plain": [
              "(<Figure size 1400x500 with 2 Axes>,\n",
              " (<Axes: title={'center': 'Training and Validation Loss'}, xlabel='Epoch', ylabel='Loss'>,\n",
              "  <Axes: title={'center': 'Training and Validation Accuracy'}, xlabel='Epoch', ylabel='Accuracy (%)'>))"
            ]
          },
          "metadata": {},
          "execution_count": 14
        }
      ],
      "source": [
        "# 画图并显示\n",
        "plot_training_history(history)"
      ]
    },
    {
      "cell_type": "code",
      "execution_count": null,
      "metadata": {
        "id": "7xfjGILiHU2d"
      },
      "outputs": [],
      "source": []
    },
    {
      "cell_type": "code",
      "execution_count": null,
      "metadata": {
        "id": "Vn82w7riHUie"
      },
      "outputs": [],
      "source": []
    }
  ],
  "metadata": {
    "colab": {
      "provenance": [],
      "gpuType": "T4"
    },
    "kernelspec": {
      "display_name": "Python 3",
      "name": "python3"
    },
    "language_info": {
      "name": "python"
    },
    "accelerator": "GPU"
  },
  "nbformat": 4,
  "nbformat_minor": 0
}